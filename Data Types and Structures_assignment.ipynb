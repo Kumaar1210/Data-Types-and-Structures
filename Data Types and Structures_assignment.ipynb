{
 "cells": [
  {
   "cell_type": "markdown",
   "id": "f51228f3",
   "metadata": {},
   "source": [
    "##Data Types and Structures Questions"
   ]
  },
  {
   "cell_type": "code",
   "execution_count": null,
   "id": "84f1a986",
   "metadata": {},
   "outputs": [],
   "source": [
    "#Q1. What are data structures, and why are they important?\n",
    "'''\n",
    "Ans.\n",
    "Data structures in the python are the way of organzing and storing data.\n",
    "This is important because in this way we can accessed and manipulating data effecintly.\n",
    "Some of the data are:-\n",
    "-List\n",
    "-set\n",
    "-tuple\n",
    "-dictionary\n",
    "'''"
   ]
  },
  {
   "cell_type": "code",
   "execution_count": null,
   "id": "134d6541",
   "metadata": {},
   "outputs": [],
   "source": [
    "#Q2. Explain the difference between mutable and immutable data types with examples?\n",
    "'''\n",
    "The diffrence between are\n",
    "a. mutable data type are the data type that can be change after creation \n",
    "for example\n",
    "-lsit\n",
    "-set\n",
    "-dictionary\n",
    "\n",
    "b. immutable data type are the data type that can't be change after the creation.\n",
    "for example\n",
    "-tuple\n",
    "-string\n",
    "-integer\n",
    "-float\n",
    "-bool\n",
    "\n",
    "'''"
   ]
  },
  {
   "cell_type": "code",
   "execution_count": null,
   "id": "81578650",
   "metadata": {},
   "outputs": [],
   "source": [
    "#Q3. What are the main differences between lists and tuples in Python?\n",
    "'''\n",
    "The main diffrence between list and tuple are below\n",
    "a. Mutablity and Immutablity\n",
    "    lsit can be change after the creation while tuple can't be change after creation\n",
    "b. Syntax used\n",
    "    In list we use square bracket[] as syntax while in tuple we use round bracket() as syntax\n",
    "c. Memory efficency\n",
    "    list use more memory because it chnage while tuple use less memory because it dose not change after creation.\n",
    "d. Performance\n",
    "    In list data can change thats why it gives data slightly slow while in tuple data are constant and hence it give data slightly fast.\n",
    "\n",
    "'''"
   ]
  },
  {
   "cell_type": "code",
   "execution_count": null,
   "id": "dc0ed479",
   "metadata": {},
   "outputs": [],
   "source": [
    "#Q4. Describe how dictionaries store data?\n",
    "'''\n",
    "Dictionary is data structure where we store data in the key:value pairs\n",
    "for example\n",
    "Emp={\"name\":\"sonu\",\"add\":\"ranchi\"}\n",
    "\n",
    "'''"
   ]
  },
  {
   "cell_type": "code",
   "execution_count": null,
   "id": "0fe13824",
   "metadata": {},
   "outputs": [],
   "source": [
    "#5. Why might you use a set instead of a list in Python?\n",
    "'''\n",
    "Set and list are both mutable in Python, but we prefer to use a set instead of a list when we want to \n",
    "store only unique values, because sets automatically remove duplicates, while lists can store repeated element.\n",
    "\n",
    "'''"
   ]
  },
  {
   "cell_type": "code",
   "execution_count": null,
   "id": "95342c39",
   "metadata": {},
   "outputs": [],
   "source": [
    "#Q6.  What is a string in Python, and how is it different from a list?\n",
    "'''\n",
    "String is a sequence of characters enclosed in quotes.\n",
    "for example\n",
    "str=\"kumaar\"\n",
    "where list is collection of element that hold no of element which can be different data type like string, integer float\n",
    "etc.\n",
    "for example\n",
    "list1=[\"apple\",\"kumar\",1,1.2,3,]\n",
    "'''"
   ]
  },
  {
   "cell_type": "code",
   "execution_count": null,
   "id": "6ad4868c",
   "metadata": {},
   "outputs": [],
   "source": [
    "#Q7. How do tuples ensure data integrity in Python?\n",
    "'''\n",
    "A tuple ensures data integrity in Python because it is immutable. This means once the data is stored in a tuple, it cannot be modified, added, or deleted. \n",
    "As a result, the original data stays safe and unchanged, give back accurate data.\n",
    "\n",
    "'''"
   ]
  },
  {
   "cell_type": "code",
   "execution_count": null,
   "id": "057c6eac",
   "metadata": {},
   "outputs": [],
   "source": [
    "#Q8. What is a hash table, and how does it relate to dictionaries in Python?\n",
    "'''\n",
    "A hash table is a data structure that stores key-value pairs and allows fast retrieval of a value when you know its key.\n",
    "it related to dictionary because it store the data in key value pair.\n",
    "'''\n"
   ]
  },
  {
   "cell_type": "code",
   "execution_count": null,
   "id": "abd72351",
   "metadata": {},
   "outputs": [],
   "source": [
    "#Q9. Can lists contain different data types in Python?\n",
    "'''\n",
    "yes , list can contain diiferent data types in python like string, integer, float, boolean etc.\n",
    "\n",
    "'''"
   ]
  },
  {
   "cell_type": "code",
   "execution_count": null,
   "id": "f3b0191d",
   "metadata": {},
   "outputs": [],
   "source": [
    "#Q10. Explain why strings are immutable in Python?\n",
    "'''\n",
    "The main reason strings are immutable in Python is to ensure safety, efficiency, and consistency in how strings are handled.\n",
    "\n",
    "'''\n"
   ]
  },
  {
   "cell_type": "code",
   "execution_count": null,
   "id": "bbe4af69",
   "metadata": {},
   "outputs": [],
   "source": [
    "#11. What advantages do dictionaries offer over lists for certain tasks?\n",
    "'''\n",
    "In lsit we have requie index value for finding itme value while in dictionary we use key to find the value.\n",
    "And in dictionary updating value for knowing key easier while in list we have to know the index valye that element.\n",
    "'''"
   ]
  },
  {
   "cell_type": "code",
   "execution_count": null,
   "id": "c66ad655",
   "metadata": {},
   "outputs": [],
   "source": [
    "#Q12. Describe a scenario where using a tuple would be preferable over a list?\n",
    "'''\n",
    "The use of tuple is important where data immutablity is important ,means data should not be change some how .\n",
    "for example \n",
    "\n",
    "\n",
    "'''"
   ]
  },
  {
   "cell_type": "code",
   "execution_count": null,
   "id": "a9f4745f",
   "metadata": {},
   "outputs": [],
   "source": [
    "#13. How do sets handle duplicate values in Python?\n",
    "'''\n",
    "In python set remove the duplicate value when we add some element twice. set handel duplicate value by storing unique element.\n",
    "\n",
    "'''"
   ]
  },
  {
   "cell_type": "code",
   "execution_count": null,
   "id": "b6f0b39e",
   "metadata": {},
   "outputs": [],
   "source": [
    "#Q14. How does the “in” keyword work differently for lists and dictionaries?\n",
    "'''\n",
    "The in keyword use inj both list and dictionary to check for memebership but it behaves differently depending upon the data type.\n",
    "For the lsit\n",
    "when we use with the list , 'in' check if the value is present amaong the element of the list\n",
    "\n",
    "For the dictionary\n",
    "when we use with the disctionary ,i check if key is present not the value  in element.\n",
    "\n",
    "'''"
   ]
  },
  {
   "cell_type": "code",
   "execution_count": null,
   "id": "37dad68e",
   "metadata": {},
   "outputs": [],
   "source": [
    "#Q15. Can you modify the elements of a tuple? Explain why or why not ?\n",
    "'''\n",
    "No, we can't modify the elements of the tuple  because the tuple is immutable which means after the creation of tuple it cant be modify. \n",
    "\n",
    "'''"
   ]
  },
  {
   "cell_type": "code",
   "execution_count": null,
   "id": "4f4b7514",
   "metadata": {},
   "outputs": [],
   "source": [
    "#Q16. What is a nested dictionary, and give an example of its use case?\n",
    "'''\n",
    "A nested dictionary is dictionary inside the another dictionary. it allow us to store groped data in a structure way.\n",
    "for example \n",
    "we are storing the data of an emplyee with many details\n",
    "\n",
    "'''\n",
    "nest_dict= {\n",
    "    \"emp001\":{\n",
    "        \"name\":\"sonu\",\n",
    "        \"add\":\"ranchi\",\n",
    "        \"pin\":834006}\n",
    "        }"
   ]
  },
  {
   "cell_type": "code",
   "execution_count": null,
   "id": "8dcf95f8",
   "metadata": {},
   "outputs": [],
   "source": [
    "#Q17.  Describe the time complexity of accessing elements in a dictionary ?\n",
    "'''\n",
    "Accessing an element by key in a Python dictionary has an average time complexity of O(1) — that means constant time.\n",
    "This is because dictionaries in Python are implemented as hash tables, which use a hash function to directly compute the\n",
    " location where the key-value pair is stored.\n",
    "\n",
    "'''"
   ]
  },
  {
   "cell_type": "code",
   "execution_count": null,
   "id": "dbda76ae",
   "metadata": {},
   "outputs": [],
   "source": [
    "#Q18. In what situations are lists preferred over dictionaries ?\n",
    "'''\n",
    "we should use list over a dictionary when situation call for order ollection data where we don't need key value pairs.\n",
    "list allow duplicate value but dictionary allow only unique key.\n",
    "'''"
   ]
  },
  {
   "cell_type": "code",
   "execution_count": null,
   "id": "7874626f",
   "metadata": {},
   "outputs": [],
   "source": [
    "#Q19. Why are dictionaries considered unordered, and how does that affect data retrieval ?\n",
    "'''\n",
    "When we iterated over a dictionary, items could appear in any order, not necessarily the order in which they were added.\n",
    "like list we can't retrive data by indexing , for data retrive we alsway know the key.\n",
    "\n",
    "'''"
   ]
  },
  {
   "cell_type": "code",
   "execution_count": null,
   "id": "1e26e301",
   "metadata": {},
   "outputs": [],
   "source": [
    "#Q20. Explain the difference between a list and a dictionary in terms of data retrieval?\n",
    "'''\n",
    "List Retrieval\n",
    "Access by Index: we retrieve elements in a list using their position (index).\n",
    "Indexes are integers starting from 0.\n",
    "Retrieval is order-based.\n",
    "\n",
    "Dictionary Retrieval\n",
    "Access by Key: we retrieve values using a unique key.\n",
    "Keys can be strings, numbers, or tuples — not limited to integers.\n",
    "Retrieval is key-based, not order-based.\n",
    "'''\n"
   ]
  },
  {
   "cell_type": "markdown",
   "id": "1e3926cb",
   "metadata": {},
   "source": [
    "##Practical Questions"
   ]
  },
  {
   "cell_type": "code",
   "execution_count": 101,
   "id": "22319b0a",
   "metadata": {},
   "outputs": [
    {
     "name": "stdout",
     "output_type": "stream",
     "text": [
      "sonu kumar\n"
     ]
    }
   ],
   "source": [
    "#Q1. Write a code to create a string with your name and print it.\n",
    "my_name=\"sonu kumar\"\n",
    "print(my_name)"
   ]
  },
  {
   "cell_type": "code",
   "execution_count": 102,
   "id": "e5222f7a",
   "metadata": {},
   "outputs": [
    {
     "name": "stdout",
     "output_type": "stream",
     "text": [
      "11\n"
     ]
    }
   ],
   "source": [
    "#Q2. Write a code to find the length of the string \"Hello World\".\n",
    "str=\"hello world\"\n",
    "print(len(str))"
   ]
  },
  {
   "cell_type": "code",
   "execution_count": 103,
   "id": "0906cb35",
   "metadata": {},
   "outputs": [
    {
     "name": "stdout",
     "output_type": "stream",
     "text": [
      "pyt\n"
     ]
    }
   ],
   "source": [
    "#Q3.  Write a code to slice the first 3 characters from the string \"Python Programming\".\n",
    "str=\"python programming\"\n",
    "print(str[:3])"
   ]
  },
  {
   "cell_type": "code",
   "execution_count": 104,
   "id": "136fd14a",
   "metadata": {},
   "outputs": [
    {
     "name": "stdout",
     "output_type": "stream",
     "text": [
      "HELLO\n"
     ]
    }
   ],
   "source": [
    "#Q4. Write a code to convert the string \"hello\" to uppercase.str.\n",
    "str4=\"hello\"\n",
    "upperstr=str4.upper()\n",
    "print(upperstr)"
   ]
  },
  {
   "cell_type": "code",
   "execution_count": 105,
   "id": "e1987fef",
   "metadata": {},
   "outputs": [
    {
     "name": "stdout",
     "output_type": "stream",
     "text": [
      "i like banana\n"
     ]
    }
   ],
   "source": [
    "#Q5. Write a code to replace the word \"apple\" with \"orange\" in the string \"I like apple\".\n",
    "fruit_str=\"i like apple\"\n",
    "new_str=fruit_str.replace(\"apple\",\"banana\")\n",
    "print(new_str)"
   ]
  },
  {
   "cell_type": "code",
   "execution_count": 106,
   "id": "551a1b86",
   "metadata": {},
   "outputs": [
    {
     "name": "stdout",
     "output_type": "stream",
     "text": [
      "0\n",
      "1\n",
      "2\n",
      "3\n",
      "4\n",
      "5\n"
     ]
    }
   ],
   "source": [
    "#Q6. Write a code to create a list with numbers 1 to 5 and print it.\n",
    "num=1\n",
    "for i in range(6):\n",
    "    print(i)\n"
   ]
  },
  {
   "cell_type": "code",
   "execution_count": 107,
   "id": "d0c4c5b2",
   "metadata": {},
   "outputs": [
    {
     "name": "stdout",
     "output_type": "stream",
     "text": [
      "[1, 2, 3, 4, 10]\n"
     ]
    }
   ],
   "source": [
    "#Q7. Write a code to append the number 10 to the list [1, 2, 3, 4].\n",
    "num=[1,2,3,4,]\n",
    "new_num=num.append(10)\n",
    "print(num)"
   ]
  },
  {
   "cell_type": "code",
   "execution_count": 108,
   "id": "1e61e2ff",
   "metadata": {},
   "outputs": [
    {
     "name": "stdout",
     "output_type": "stream",
     "text": [
      "[1, 2, 4, 5]\n"
     ]
    }
   ],
   "source": [
    "#Q8. Write a code to remove the number 3 from the list [1, 2, 3, 4, 5].\n",
    "num_r=[1,2,3,4,5]\n",
    "num_r.remove(3)\n",
    "print(num_r)"
   ]
  },
  {
   "cell_type": "code",
   "execution_count": 109,
   "id": "7e1e8ff6",
   "metadata": {},
   "outputs": [
    {
     "name": "stdout",
     "output_type": "stream",
     "text": [
      "b\n"
     ]
    }
   ],
   "source": [
    "#Q9.Write a code to access the second element in the list ['a', 'b', 'c', 'd']\n",
    "elem=[\"a\",\"b\",\"c\",\"d\"]\n",
    "new_elem=elem[1]\n",
    "print(new_elem)"
   ]
  },
  {
   "cell_type": "code",
   "execution_count": 110,
   "id": "8210d8c3",
   "metadata": {},
   "outputs": [
    {
     "name": "stdout",
     "output_type": "stream",
     "text": [
      "[50, 40, 30, 20, 10]\n"
     ]
    }
   ],
   "source": [
    "#Q10. Write a code to reverse the list [10, 20, 30, 40, 50].\n",
    "num_list=[10,20,30,40,50]\n",
    "num_list.reverse()\n",
    "print(num_list)"
   ]
  },
  {
   "cell_type": "code",
   "execution_count": 111,
   "id": "cb41f820",
   "metadata": {},
   "outputs": [
    {
     "name": "stdout",
     "output_type": "stream",
     "text": [
      "(100, 200, 300)\n"
     ]
    }
   ],
   "source": [
    "#Q11. Write a code to create a tuple with the elements 100, 200, 300 and print it.\n",
    "my_tuple=(100,200,300)\n",
    "print(my_tuple)"
   ]
  },
  {
   "cell_type": "code",
   "execution_count": 112,
   "id": "5574abdb",
   "metadata": {},
   "outputs": [
    {
     "name": "stdout",
     "output_type": "stream",
     "text": [
      "('green', 'blue', 'yellow')\n"
     ]
    }
   ],
   "source": [
    "#Q12. Write a code to access the second-to-last element of the tuple ('red', 'green', 'blue', 'yellow').\n",
    "colour_tuple=(\"red\",\"green\",\"blue\",\"yellow\")\n",
    "print(colour_tuple[1:])"
   ]
  },
  {
   "cell_type": "code",
   "execution_count": 113,
   "id": "742517d1",
   "metadata": {},
   "outputs": [
    {
     "name": "stdout",
     "output_type": "stream",
     "text": [
      "5\n"
     ]
    }
   ],
   "source": [
    "#Q13. Write a code to find the minimum number in the tuple (10, 20, 5, 15).\n",
    "num_tuple=(10,20,5,15)\n",
    "min_value=min(num_tuple)\n",
    "print(min_value)"
   ]
  },
  {
   "cell_type": "code",
   "execution_count": 114,
   "id": "6f389d31",
   "metadata": {},
   "outputs": [
    {
     "name": "stdout",
     "output_type": "stream",
     "text": [
      "1\n"
     ]
    }
   ],
   "source": [
    "#Q14. Write a code to find the index of the element \"cat\" in the tuple ('dog', 'cat', 'rabbit').\n",
    "pet_name=(\"dog\",\"cat\",\"rabbit\")\n",
    "print(pet_name.index(\"cat\"))\n"
   ]
  },
  {
   "cell_type": "code",
   "execution_count": 115,
   "id": "903bcb4e",
   "metadata": {},
   "outputs": [
    {
     "name": "stdout",
     "output_type": "stream",
     "text": [
      "kiwi is not in it\n"
     ]
    }
   ],
   "source": [
    "#Q15. Write a code to create a tuple containing three different fruits and check if \"kiwi\" is in it.\n",
    "fruit_name=(\"apple\",\"orange\",\"banana\",)\n",
    "if \"kiwi\" in fruit_name:\n",
    "    print(\"kiwi is in it\")\n",
    "else:\n",
    "    print(\"kiwi is not in it\")"
   ]
  },
  {
   "cell_type": "code",
   "execution_count": 116,
   "id": "e908baf0",
   "metadata": {},
   "outputs": [
    {
     "name": "stdout",
     "output_type": "stream",
     "text": [
      "{'b', 'a', 'c'}\n"
     ]
    }
   ],
   "source": [
    "#Q16. Write a code to create a set with the elements 'a', 'b', 'c' and print it.\n",
    "my_set={\"a\",\"b\",\"c\"}\n",
    "print(my_set)"
   ]
  },
  {
   "cell_type": "code",
   "execution_count": 117,
   "id": "75aabda2",
   "metadata": {},
   "outputs": [
    {
     "name": "stdout",
     "output_type": "stream",
     "text": [
      "set()\n"
     ]
    }
   ],
   "source": [
    "#Q17. Write a code to clear all elements from the set {1, 2, 3, 4, 5}.\n",
    "my_set={1,2,3,4,5,}\n",
    "my_set.clear()\n",
    "print(my_set)\n"
   ]
  },
  {
   "cell_type": "code",
   "execution_count": 118,
   "id": "2b752674",
   "metadata": {},
   "outputs": [
    {
     "name": "stdout",
     "output_type": "stream",
     "text": [
      "{1, 2, 3}\n"
     ]
    }
   ],
   "source": [
    "#Q18. Write a code to remove the element 4 from the set {1, 2, 3, 4}.\n",
    "num_set={1,2,3,4,}\n",
    "num_set.remove(4)\n",
    "print(num_set)"
   ]
  },
  {
   "cell_type": "code",
   "execution_count": 119,
   "id": "0323ca52",
   "metadata": {},
   "outputs": [
    {
     "name": "stdout",
     "output_type": "stream",
     "text": [
      "{1, 2, 3, 4, 5}\n"
     ]
    }
   ],
   "source": [
    "#Q19. Write a code to find the union of two sets {1, 2, 3} and {3, 4, 5}.\n",
    "set1={1,2,3,}\n",
    "set2={3,4,5,}\n",
    "\n",
    "print(set1|set2)"
   ]
  },
  {
   "cell_type": "code",
   "execution_count": 120,
   "id": "a0acccba",
   "metadata": {},
   "outputs": [
    {
     "name": "stdout",
     "output_type": "stream",
     "text": [
      "{2, 3}\n"
     ]
    }
   ],
   "source": [
    "#Q20.  Write a code to find the intersection of two sets {1, 2, 3} and {2, 3, 4}.\n",
    "set1={1,2,3,}\n",
    "set2={2,3,4,}\n",
    "\n",
    "print(set1&set2)"
   ]
  },
  {
   "cell_type": "code",
   "execution_count": 121,
   "id": "f5592b4a",
   "metadata": {},
   "outputs": [
    {
     "name": "stdout",
     "output_type": "stream",
     "text": [
      "{'name': 'kumaar sonu', 'age': 26, 'city': 'ranchi'}\n"
     ]
    }
   ],
   "source": [
    "#Q21. Write a code to create a dictionary with the keys \"name\", \"age\", and \"city\", and print it.\n",
    "my_dict={\n",
    "    \"name\":\"kumaar sonu\",\n",
    "    \"age\":26,\n",
    "    \"city\":\"ranchi\"\n",
    "}\n",
    "print(my_dict)"
   ]
  },
  {
   "cell_type": "code",
   "execution_count": 122,
   "id": "37913603",
   "metadata": {},
   "outputs": [
    {
     "name": "stdout",
     "output_type": "stream",
     "text": [
      "{'name': 'john', 'age': 25, 'country': 'USA'}\n"
     ]
    }
   ],
   "source": [
    "#Q22. Write a code to add a new key-value pair \"country\": \"USA\" to the dictionary {'name': 'John', 'age': 25}.\n",
    "my_dict={\"name\":\"john\",\"age\":25}\n",
    "new_key={\"country\":\"USA\"}\n",
    "\n",
    "my_dict.update(new_key)\n",
    "\n",
    "print(my_dict)"
   ]
  },
  {
   "cell_type": "code",
   "execution_count": 123,
   "id": "e0e7378e",
   "metadata": {},
   "outputs": [
    {
     "name": "stdout",
     "output_type": "stream",
     "text": [
      "alice\n"
     ]
    }
   ],
   "source": [
    "#Q23. Write a code to access the value associated with the key \"name\" in the dictionary {'name': 'Alice', 'age': 30}.\n",
    "my_dict={'name':\"alice\",\"age\":30}\n",
    "print(my_dict[\"name\"])\n"
   ]
  },
  {
   "cell_type": "code",
   "execution_count": 124,
   "id": "991409fc",
   "metadata": {},
   "outputs": [
    {
     "name": "stdout",
     "output_type": "stream",
     "text": [
      "{'name': 'bob', 'city': 'new york'}\n"
     ]
    }
   ],
   "source": [
    "#Q24.  Write a code to remove the key \"age\" from the dictionary {'name': 'Bob', 'age': 22, 'city': 'New York'}.\n",
    "dict24={\"name\":\"bob\",\"age\":22,\"city\":\"new york\"}\n",
    "dict24.pop(\"age\")\n",
    "\n",
    "print(dict24)"
   ]
  },
  {
   "cell_type": "code",
   "execution_count": 125,
   "id": "bf4c9ae2",
   "metadata": {},
   "outputs": [
    {
     "name": "stdout",
     "output_type": "stream",
     "text": [
      "yes,city is exists\n"
     ]
    }
   ],
   "source": [
    "#Q25.Write a code to check if the key \"city\" exists in the dictionary {'name': 'Alice', 'city': 'Paris'}.\n",
    "dict25= {'name': 'Alice', 'city': 'Paris'}\n",
    "if \"city\" in dict25:\n",
    "    print(\"yes,city is exists\")\n",
    "else:\n",
    "    print(\"no, not exists\")"
   ]
  },
  {
   "cell_type": "code",
   "execution_count": 126,
   "id": "35863716",
   "metadata": {},
   "outputs": [
    {
     "name": "stdout",
     "output_type": "stream",
     "text": [
      "List: [10, 20, 30, 40]\n",
      "Tuple: ('apple', 'banana', 'cherry')\n",
      "Dictionary: {'name': 'Alice', 'age': 25, 'city': 'Paris'}\n"
     ]
    }
   ],
   "source": [
    "#Q26. Write a code to create a list, a tuple, and a dictionary, and print them all.\n",
    "\n",
    "my_list = [10, 20, 30, 40]\n",
    "my_tuple = ('apple', 'banana', 'cherry')\n",
    "my_dict = {'name': 'Alice', 'age': 25, 'city': 'Paris'}\n",
    "\n",
    "print(\"List:\", my_list)\n",
    "print(\"Tuple:\", my_tuple)\n",
    "print(\"Dictionary:\", my_dict)\n"
   ]
  },
  {
   "cell_type": "code",
   "execution_count": 127,
   "id": "33948bd9",
   "metadata": {},
   "outputs": [],
   "source": [
    "#Q27. Write a code to create a list of 5 random numbers between 1 and 100, sort it in ascending order, and print the result.(replaced).\n",
    "\n",
    "\n",
    "\n",
    "\n",
    "\n"
   ]
  },
  {
   "cell_type": "code",
   "execution_count": 128,
   "id": "4e155ad5",
   "metadata": {},
   "outputs": [
    {
     "name": "stdout",
     "output_type": "stream",
     "text": [
      "india\n"
     ]
    }
   ],
   "source": [
    "#Q28.  Write a code to create a list with strings and print the element at the third index.\n",
    "name=\"kumaar\"\n",
    "city=\"ranchi\"\n",
    "state=\"jharkhand\"\n",
    "country=\"india\"\n",
    "sport=\"cricket\"\n",
    "\n",
    "my_list28=[name,city,state,country,sport]\n",
    "print(my_list28[3])\n"
   ]
  },
  {
   "cell_type": "code",
   "execution_count": 129,
   "id": "031b9467",
   "metadata": {},
   "outputs": [
    {
     "name": "stdout",
     "output_type": "stream",
     "text": [
      "{'name': 'Alice', 'city': 'Paris', 'age': 22, 'country': 'usa'}\n"
     ]
    }
   ],
   "source": [
    "#Q29. Write a code to combine two dictionaries into one and print the result.\n",
    "dict25= {'name': 'Alice', 'city': 'Paris'}\n",
    "dict24={\"age\":22,\"country\":\"usa\"}\n",
    "\n",
    "dict25.update(dict24)\n",
    "\n",
    "print(dict25)"
   ]
  },
  {
   "cell_type": "code",
   "execution_count": 130,
   "id": "a9f8f7a7",
   "metadata": {},
   "outputs": [
    {
     "name": "stdout",
     "output_type": "stream",
     "text": [
      "{'india', 'ranchi', 'banana', 'apple'}\n"
     ]
    }
   ],
   "source": [
    "#Q30. Write a code to convert a list of strings into a set.\n",
    "my_list30=[\"apple\",\"banana\",\"ranchi\",\"india\"]\n",
    "print(set(my_list30))"
   ]
  }
 ],
 "metadata": {
  "kernelspec": {
   "display_name": "Python 3",
   "language": "python",
   "name": "python3"
  },
  "language_info": {
   "codemirror_mode": {
    "name": "ipython",
    "version": 3
   },
   "file_extension": ".py",
   "mimetype": "text/x-python",
   "name": "python",
   "nbconvert_exporter": "python",
   "pygments_lexer": "ipython3",
   "version": "3.13.5"
  }
 },
 "nbformat": 4,
 "nbformat_minor": 5
}
